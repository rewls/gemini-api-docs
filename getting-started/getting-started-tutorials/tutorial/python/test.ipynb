{
 "cells": [
  {
   "cell_type": "code",
   "execution_count": 1,
   "id": "4c9733d8-5df6-4b3a-bd3f-57844de6b751",
   "metadata": {},
   "outputs": [],
   "source": [
    "import pathlib\n",
    "import textwrap\n",
    "\n",
    "import google.generativeai as genai\n",
    "\n",
    "from IPython.display import display\n",
    "from IPython.display import Markdown\n",
    "\n",
    "\n",
    "def to_markdown(text):\n",
    "    text = text.replace('•', '  *')\n",
    "    return Markdown(textwrap.indent(text, '> ', predicate = lambda _: True))"
   ]
  },
  {
   "cell_type": "code",
   "execution_count": 2,
   "id": "203194b7-a037-4270-94e3-ff8750008d75",
   "metadata": {},
   "outputs": [],
   "source": [
    "import os\n",
    "\n",
    "os.environ[\"GRPC_DNS_RESOLVER\"] = \"native\"\n",
    "GOOGLE_API_KEY = os.getenv('GOOGLE_API_KEY')\n",
    "genai.configure(api_key = GOOGLE_API_KEY)"
   ]
  },
  {
   "cell_type": "code",
   "execution_count": 3,
   "id": "722f1648-2c43-4247-a182-7e782d7a5a48",
   "metadata": {},
   "outputs": [
    {
     "name": "stdout",
     "output_type": "stream",
     "text": [
      "models/gemini-1.0-pro\n",
      "models/gemini-1.0-pro-001\n",
      "models/gemini-1.0-pro-latest\n",
      "models/gemini-1.0-pro-vision-latest\n",
      "models/gemini-1.5-flash-latest\n",
      "models/gemini-1.5-pro-latest\n",
      "models/gemini-pro\n",
      "models/gemini-pro-vision\n"
     ]
    }
   ],
   "source": [
    "for m in genai.list_models():\n",
    "    if 'generateContent' in m.supported_generation_methods:\n",
    "        print(m.name)"
   ]
  },
  {
   "cell_type": "code",
   "execution_count": 4,
   "id": "93f4c9a3-cdd7-4868-9475-a394d809e23e",
   "metadata": {},
   "outputs": [],
   "source": [
    "model = genai.GenerativeModel('gemini-pro')"
   ]
  },
  {
   "cell_type": "code",
   "execution_count": 5,
   "id": "e60ca1a3-78cf-4ab0-afaa-12c53d1fc193",
   "metadata": {},
   "outputs": [
    {
     "name": "stdout",
     "output_type": "stream",
     "text": [
      "CPU times: user 9.48 ms, sys: 7.11 ms, total: 16.6 ms\n",
      "Wall time: 7.05 s\n"
     ]
    }
   ],
   "source": [
    "%%time\n",
    "response = model.generate_content(\"What is the meaning of life?\")"
   ]
  },
  {
   "cell_type": "code",
   "execution_count": 6,
   "id": "77cc20de-109e-40d9-8144-383e43c9925d",
   "metadata": {},
   "outputs": [
    {
     "data": {
      "text/markdown": [
       "> The meaning of life is a profound philosophical question that has puzzled humans throughout history. There is no single, universally agreed-upon answer, as the meaning of life can vary greatly from person to person and from culture to culture. However, some common themes that have emerged in the pursuit of this question include:\n",
       "> \n",
       "> * **Purpose and fulfillment:** Many people believe that the meaning of life is to find a sense of purpose and fulfillment, whether through work, relationships, hobbies, or other activities. This can involve setting goals, making meaningful contributions to society, or simply living a life that is true to one's values.\n",
       "> * **Happiness:** Others believe that the meaning of life is to find happiness or well-being. This can involve pursuing activities that bring joy, cultivating positive relationships, and practicing self-care.\n",
       "> * **Growth and learning:** Some see the meaning of life in ongoing growth, learning, and self-improvement. This can involve seeking knowledge, developing skills, and evolving as a person.\n",
       "> * **Connection:** Many people find meaning in life through their connections with others, whether through family, friends, or a sense of community. This can involve building strong relationships, supporting others, and making a positive impact on the world.\n",
       "> * **Legacy:** Some believe that the meaning of life is to leave a lasting legacy or impact on the world. This can involve creating something meaningful, making a difference in people's lives, or simply being remembered for one's actions and contributions.\n",
       "> \n",
       "> Ultimately, the meaning of life is a deeply personal question that each individual must answer for themselves. There is no right or wrong answer, and the meaning one finds can change over time as one grows and experiences life."
      ],
      "text/plain": [
       "<IPython.core.display.Markdown object>"
      ]
     },
     "execution_count": 6,
     "metadata": {},
     "output_type": "execute_result"
    }
   ],
   "source": [
    "to_markdown(response.text)"
   ]
  },
  {
   "cell_type": "code",
   "execution_count": 7,
   "id": "a3d4c036-04e3-46e2-9df4-6ef8873dce42",
   "metadata": {},
   "outputs": [
    {
     "data": {
      "text/plain": []
     },
     "execution_count": 7,
     "metadata": {},
     "output_type": "execute_result"
    }
   ],
   "source": [
    "response.prompt_feedback"
   ]
  },
  {
   "cell_type": "code",
   "execution_count": 8,
   "id": "4b327765-86d1-4c8f-ae3b-c68f3311216a",
   "metadata": {},
   "outputs": [
    {
     "data": {
      "text/plain": [
       "[index: 0\n",
       "content {\n",
       "  parts {\n",
       "    text: \"The meaning of life is a profound philosophical question that has puzzled humans throughout history. There is no single, universally agreed-upon answer, as the meaning of life can vary greatly from person to person and from culture to culture. However, some common themes that have emerged in the pursuit of this question include:\\n\\n* **Purpose and fulfillment:** Many people believe that the meaning of life is to find a sense of purpose and fulfillment, whether through work, relationships, hobbies, or other activities. This can involve setting goals, making meaningful contributions to society, or simply living a life that is true to one\\'s values.\\n* **Happiness:** Others believe that the meaning of life is to find happiness or well-being. This can involve pursuing activities that bring joy, cultivating positive relationships, and practicing self-care.\\n* **Growth and learning:** Some see the meaning of life in ongoing growth, learning, and self-improvement. This can involve seeking knowledge, developing skills, and evolving as a person.\\n* **Connection:** Many people find meaning in life through their connections with others, whether through family, friends, or a sense of community. This can involve building strong relationships, supporting others, and making a positive impact on the world.\\n* **Legacy:** Some believe that the meaning of life is to leave a lasting legacy or impact on the world. This can involve creating something meaningful, making a difference in people\\'s lives, or simply being remembered for one\\'s actions and contributions.\\n\\nUltimately, the meaning of life is a deeply personal question that each individual must answer for themselves. There is no right or wrong answer, and the meaning one finds can change over time as one grows and experiences life.\"\n",
       "  }\n",
       "  role: \"model\"\n",
       "}\n",
       "finish_reason: STOP\n",
       "safety_ratings {\n",
       "  category: HARM_CATEGORY_SEXUALLY_EXPLICIT\n",
       "  probability: NEGLIGIBLE\n",
       "}\n",
       "safety_ratings {\n",
       "  category: HARM_CATEGORY_HATE_SPEECH\n",
       "  probability: NEGLIGIBLE\n",
       "}\n",
       "safety_ratings {\n",
       "  category: HARM_CATEGORY_HARASSMENT\n",
       "  probability: NEGLIGIBLE\n",
       "}\n",
       "safety_ratings {\n",
       "  category: HARM_CATEGORY_DANGEROUS_CONTENT\n",
       "  probability: NEGLIGIBLE\n",
       "}\n",
       "]"
      ]
     },
     "execution_count": 8,
     "metadata": {},
     "output_type": "execute_result"
    }
   ],
   "source": [
    "response.candidates"
   ]
  },
  {
   "cell_type": "code",
   "execution_count": 9,
   "id": "ca96dbaa-e758-49a8-9b20-0df9d88786d2",
   "metadata": {},
   "outputs": [
    {
     "name": "stdout",
     "output_type": "stream",
     "text": [
      "CPU times: user 4.82 ms, sys: 1.05 ms, total: 5.87 ms\n",
      "Wall time: 1.2 s\n"
     ]
    }
   ],
   "source": [
    "%%time\n",
    "response = model.generate_content(\"What is the meaning of life?\", stream = True)"
   ]
  },
  {
   "cell_type": "code",
   "execution_count": 10,
   "id": "24044c79-0b26-4cd5-a8d3-3a5c8d355608",
   "metadata": {},
   "outputs": [
    {
     "name": "stdout",
     "output_type": "stream",
     "text": [
      "The meaning of life is a deep and personal question that has been contemplated by philosophers\n",
      "________________________________________________________________________________\n",
      ", theologians, and individuals throughout history. There is no single, universally accepted answer, as the meaning of life can vary depending on one's beliefs, values\n",
      "________________________________________________________________________________\n",
      ", and experiences. However, some common themes that emerge in discussions about the meaning of life include:\n",
      "\n",
      "* **Purpose:** Many people believe that life has a purpose or goal, such as achieving happiness, making a positive impact on the world, or fulfilling one's potential.\n",
      "\n",
      "* **Relationships:** Strong relationships with\n",
      "________________________________________________________________________________\n",
      " family, friends, and loved ones are often seen as an important part of a meaningful life.\n",
      "\n",
      "* **Values:** Living in accordance with one's values, such as integrity, kindness, and compassion, can bring a sense of purpose and fulfillment.\n",
      "\n",
      "* **Experiences:** Some people find meaning in exploring the world, trying new things, and having unique experiences.\n",
      "\n",
      "* **Contribution:** Making a contribution to society, such as through work, volunteering, or activism, can also give life a sense of purpose and meaning.\n",
      "\n",
      "* **Personal growth:** Many people believe that the journey of personal growth and self-improvement is an\n",
      "________________________________________________________________________________\n",
      " important part of a meaningful life.\n",
      "\n",
      "* **Spirituality:** For some people, spirituality and a connection to something greater than oneself can provide a sense of meaning and purpose.\n",
      "\n",
      "Ultimately, the meaning of life is a question that each individual must answer for themselves. There is no right or wrong answer, and it is a journey of exploration and self-discovery.\n",
      "________________________________________________________________________________\n"
     ]
    }
   ],
   "source": [
    "for chunk in response:\n",
    "    print(chunk.text)\n",
    "    print(\"_\" * 80)"
   ]
  },
  {
   "cell_type": "code",
   "execution_count": 11,
   "id": "92c926bf-6ab7-4956-9a8b-b6d34040b461",
   "metadata": {},
   "outputs": [],
   "source": [
    "response = model.generate_content(\"What is the meaning of life?\", stream=True)"
   ]
  },
  {
   "cell_type": "code",
   "execution_count": 12,
   "id": "4be9342c-acea-4f64-8352-614566d71516",
   "metadata": {},
   "outputs": [
    {
     "data": {
      "text/plain": []
     },
     "execution_count": 12,
     "metadata": {},
     "output_type": "execute_result"
    }
   ],
   "source": [
    "response.prompt_feedback"
   ]
  },
  {
   "cell_type": "code",
   "execution_count": 13,
   "id": "02fc2f8a-1ccd-4689-9da7-7d81c299012d",
   "metadata": {},
   "outputs": [
    {
     "name": "stdout",
     "output_type": "stream",
     "text": [
      "IncompleteIterationError: Please let the response complete iteration before accessing the final accumulated\n",
      "attributes (or call `response.resolve()`)\n"
     ]
    }
   ],
   "source": [
    "try:\n",
    "  response.text\n",
    "except Exception as e:\n",
    "  print(f'{type(e).__name__}: {e}')"
   ]
  },
  {
   "cell_type": "code",
   "execution_count": 14,
   "id": "72175f98-7c07-43bd-bfcd-d740541cc904",
   "metadata": {},
   "outputs": [
    {
     "data": {
      "text/plain": [
       "ChatSession(\n",
       "    model=genai.GenerativeModel(\n",
       "        model_name='models/gemini-pro',\n",
       "        generation_config={},\n",
       "        safety_settings={},\n",
       "        tools=None,\n",
       "        system_instruction=None,\n",
       "    ),\n",
       "    history=[]\n",
       ")"
      ]
     },
     "execution_count": 14,
     "metadata": {},
     "output_type": "execute_result"
    }
   ],
   "source": [
    "model = genai.GenerativeModel('gemini-pro')\n",
    "chat = model.start_chat(history=[])\n",
    "chat"
   ]
  },
  {
   "cell_type": "code",
   "execution_count": 15,
   "id": "bfbf008d-26da-4abd-9e8f-fa49e02a6438",
   "metadata": {},
   "outputs": [
    {
     "data": {
      "text/markdown": [
       "> A computer is like a smart machine that can store information and use it to do different things, just like when you play with your favorite toys!"
      ],
      "text/plain": [
       "<IPython.core.display.Markdown object>"
      ]
     },
     "execution_count": 15,
     "metadata": {},
     "output_type": "execute_result"
    }
   ],
   "source": [
    "response = chat.send_message(\n",
    "    \"In one sentence, explain how a computer works to a young child.\")\n",
    "to_markdown(response.text)"
   ]
  },
  {
   "cell_type": "code",
   "execution_count": 16,
   "id": "6952817a-2a5b-4f15-b09f-8f871b4c50fe",
   "metadata": {},
   "outputs": [
    {
     "data": {
      "text/plain": [
       "[parts {\n",
       "   text: \"In one sentence, explain how a computer works to a young child.\"\n",
       " }\n",
       " role: \"user\",\n",
       " parts {\n",
       "   text: \"A computer is like a smart machine that can store information and use it to do different things, just like when you play with your favorite toys!\"\n",
       " }\n",
       " role: \"model\"]"
      ]
     },
     "execution_count": 16,
     "metadata": {},
     "output_type": "execute_result"
    }
   ],
   "source": [
    "chat.history"
   ]
  },
  {
   "cell_type": "code",
   "execution_count": 17,
   "id": "c436b44e-4468-457c-83c0-cb207d0097a9",
   "metadata": {},
   "outputs": [
    {
     "name": "stdout",
     "output_type": "stream",
     "text": [
      "A computer is an electronic device that can be programmed to carry out a set of\n",
      "________________________________________________________________________________\n",
      " instructions. It operates on the basis of input, processing, output, and storage. Input devices, such as a keyboard or mouse, allow the user to enter\n",
      "________________________________________________________________________________\n",
      " data and instructions into the computer. The central processing unit (CPU), which is the \"brain\" of the computer, processes the data according to the instructions provided. The output devices, such as a monitor or printer, display or print the results of the processing. Data and instructions are stored in memory devices, such as\n",
      "________________________________________________________________________________\n",
      " RAM and hard drives, for later use.\n",
      "\n",
      "To summarize, a computer takes input, processes it, stores it, and outputs the results, all under the control of a set of instructions provided by the user or a program.\n",
      "________________________________________________________________________________\n"
     ]
    }
   ],
   "source": [
    "response = chat.send_message(\n",
    "        \"Okey, how about a more detailed explanation to a high schooler?\",\n",
    "        stream = True)\n",
    "\n",
    "for chunk in response:\n",
    "    print(chunk.text)\n",
    "    print(\"_\" * 80)"
   ]
  },
  {
   "cell_type": "code",
   "execution_count": 18,
   "id": "9ff959e7-0ddd-4fc4-8e44-4da64fde224d",
   "metadata": {},
   "outputs": [
    {
     "data": {
      "text/markdown": [
       "> **user**: In one sentence, explain how a computer works to a young child."
      ],
      "text/plain": [
       "<IPython.core.display.Markdown object>"
      ]
     },
     "metadata": {},
     "output_type": "display_data"
    },
    {
     "data": {
      "text/markdown": [
       "> **model**: A computer is like a smart machine that can store information and use it to do different things, just like when you play with your favorite toys!"
      ],
      "text/plain": [
       "<IPython.core.display.Markdown object>"
      ]
     },
     "metadata": {},
     "output_type": "display_data"
    },
    {
     "data": {
      "text/markdown": [
       "> **user**: Okey, how about a more detailed explanation to a high schooler?"
      ],
      "text/plain": [
       "<IPython.core.display.Markdown object>"
      ]
     },
     "metadata": {},
     "output_type": "display_data"
    },
    {
     "data": {
      "text/markdown": [
       "> **model**: A computer is an electronic device that can be programmed to carry out a set of instructions. It operates on the basis of input, processing, output, and storage. Input devices, such as a keyboard or mouse, allow the user to enter data and instructions into the computer. The central processing unit (CPU), which is the \"brain\" of the computer, processes the data according to the instructions provided. The output devices, such as a monitor or printer, display or print the results of the processing. Data and instructions are stored in memory devices, such as RAM and hard drives, for later use.\n",
       "> \n",
       "> To summarize, a computer takes input, processes it, stores it, and outputs the results, all under the control of a set of instructions provided by the user or a program."
      ],
      "text/plain": [
       "<IPython.core.display.Markdown object>"
      ]
     },
     "metadata": {},
     "output_type": "display_data"
    }
   ],
   "source": [
    "for message in chat.history:\n",
    "    display(to_markdown(f'**{message.role}**: {message.parts[0].text}'))"
   ]
  },
  {
   "cell_type": "code",
   "execution_count": 19,
   "id": "b1f8f1b9-8d16-44ef-b8b3-ab79010d3619",
   "metadata": {},
   "outputs": [
    {
     "data": {
      "text/plain": [
       "total_tokens: 7"
      ]
     },
     "execution_count": 19,
     "metadata": {},
     "output_type": "execute_result"
    }
   ],
   "source": [
    "model.count_tokens(\"What is the meaning of life?\")"
   ]
  },
  {
   "cell_type": "code",
   "execution_count": 20,
   "id": "ce276cc4-283e-459a-ad8e-1ecfc003e59b",
   "metadata": {},
   "outputs": [
    {
     "data": {
      "text/plain": [
       "total_tokens: 219"
      ]
     },
     "execution_count": 20,
     "metadata": {},
     "output_type": "execute_result"
    }
   ],
   "source": [
    "model.count_tokens(chat.history)"
   ]
  },
  {
   "cell_type": "code",
   "execution_count": 21,
   "id": "e31e577a-44ff-4d5c-9c21-a9c0b560c2a5",
   "metadata": {},
   "outputs": [
    {
     "name": "stdout",
     "output_type": "stream",
     "text": [
      "[-0.003216741, -0.013358698, -0.017649598, -0.0091 ... TRIMMED]\n"
     ]
    }
   ],
   "source": [
    "result = genai.embed_content(model = \"models/embedding-001\",\n",
    "                             content = \"What is the meaning of life?\",\n",
    "                             task_type = \"retrieval_document\",\n",
    "                             title = \"Embedding of single string\")\n",
    "\n",
    "# 1 input > 1 vector output\n",
    "print(str(result['embedding'])[:50], '... TRIMMED]')"
   ]
  },
  {
   "cell_type": "code",
   "execution_count": 22,
   "id": "b7a3057e-531a-4bd8-bfc8-39418552f6bf",
   "metadata": {},
   "outputs": [
    {
     "name": "stdout",
     "output_type": "stream",
     "text": [
      "[0.0040260437, 0.004124458, -0.014209415, -0.00183 ... TRIMMED ...\n",
      "[-0.004049845, -0.0075574904, -0.0073463684, -0.03 ... TRIMMED ...\n",
      "[0.025310587, -0.0080734305, -0.029902633, 0.01160 ... TRIMMED ...\n"
     ]
    }
   ],
   "source": [
    "result = genai.embed_content(model = \"models/embedding-001\",\n",
    "                             content = [\n",
    "                                 'What is the meaning of life?',\n",
    "                                 'How much wood would a woodchuck chuck?',\n",
    "                                 'How does the brain work?'],\n",
    "                             task_type = \"retrieval_document\",\n",
    "                             title = \"Embedding of list of strings\")\n",
    "\n",
    "# A list of inputs > A list of vectors output\n",
    "for v in result['embedding']:\n",
    "    print(str(v)[:50], '... TRIMMED ...')"
   ]
  },
  {
   "cell_type": "code",
   "execution_count": 23,
   "id": "845ec2dc-6f22-4fcb-ac2e-015ef38b1670",
   "metadata": {},
   "outputs": [],
   "source": [
    "import google.ai.generativelanguage as glm"
   ]
  },
  {
   "cell_type": "code",
   "execution_count": 24,
   "id": "53af4d9c-25d0-469a-a129-4e0aca5cdd67",
   "metadata": {},
   "outputs": [],
   "source": [
    "model = genai.GenerativeModel('gemini-pro')\n",
    "response = model.generate_content(\n",
    "        glm.Content(\n",
    "            parts = [\n",
    "                glm.Part(text = \"In one sentence, explain how a computer works to a young child.\"),\n",
    "                ],\n",
    "            ),\n",
    "        stream = True)"
   ]
  },
  {
   "cell_type": "code",
   "execution_count": 25,
   "id": "c8912ad8-b846-45b1-a765-fba846144a34",
   "metadata": {},
   "outputs": [
    {
     "data": {
      "text/markdown": [
       "> A computer is like a smart helper that takes in information, remembers it, and helps you do lots of ... [TRIMEED] ..."
      ],
      "text/plain": [
       "<IPython.core.display.Markdown object>"
      ]
     },
     "execution_count": 25,
     "metadata": {},
     "output_type": "execute_result"
    }
   ],
   "source": [
    "response.resolve()\n",
    "\n",
    "to_markdown(response.text[:100] + \"... [TRIMEED] ...\")"
   ]
  },
  {
   "cell_type": "code",
   "execution_count": 26,
   "id": "56fb8e0a-6e61-4679-b73b-b13b99a9bac2",
   "metadata": {},
   "outputs": [
    {
     "data": {
      "text/markdown": [
       "> Imagine a computer is like a super-smart friend who can help you do many things.\n",
       "> \n",
       "> First, the computer has a brain called the \"processor.\" It's like your brain, but much faster. It thinks and makes decisions.\n",
       "> \n",
       "> Then, the computer has a \"hard drive\" like a giant storage box. It keeps all your favorite games, videos, and pictures safe.\n",
       "> \n",
       "> And finally, the computer has a \"keyboard\" and \"mouse\" you can use to talk to the computer. You can type words and move the arrow on the screen to tell the computer what you want.\n",
       "> \n",
       "> So, when you play a game, the computer takes your commands from the keyboard and mouse and makes the game characters move on the screen. When you watch a video, the computer gets it from the hard drive and shows it on the screen. And when you draw a picture, the computer saves it in the storage box.\n",
       "> \n",
       "> It's like having a super-smart friend who never forgets anything and can do lots of things for you!"
      ],
      "text/plain": [
       "<IPython.core.display.Markdown object>"
      ]
     },
     "execution_count": 26,
     "metadata": {},
     "output_type": "execute_result"
    }
   ],
   "source": [
    "model = genai.GenerativeModel('gemini-pro')\n",
    "\n",
    "messages = [\n",
    "        {'role':'user',\n",
    "         'parts': [\"Briefly explain how a computer works to a young child.\"]}]\n",
    "response = model.generate_content(messages)\n",
    "\n",
    "to_markdown(response.text)"
   ]
  },
  {
   "cell_type": "code",
   "execution_count": 27,
   "id": "bbc4b6d0-7394-4282-bd05-5c4bbf7fb91d",
   "metadata": {},
   "outputs": [
    {
     "data": {
      "text/markdown": [
       "> A computer is an electronic device that can be programmed to carry out a set of instructions. It consists of hardware and software.\n",
       "> \n",
       "> **Hardware** is the physical components of a computer, such as the processor, memory, storage, input devices (keyboard, mouse), and output devices (monitor, printer).\n",
       "> \n",
       "> **Software** is the set of instructions that tells the computer what to do. It includes the operating system, which manages the hardware and provides basic services, as well as application software, which performs specific tasks for the user, such as word processing, web browsing, or playing games.\n",
       "> \n",
       "> When you give a command to the computer, the processor fetches the relevant instructions from memory and executes them. The results of the instructions are stored in memory or sent to an output device.\n",
       "> \n",
       "> **Here is a simplified overview of how a computer works:**\n",
       "> \n",
       "> 1. You enter a command using an input device, such as typing on the keyboard or clicking on a button with the mouse.\n",
       "> 2. The processor fetches the relevant instructions from memory.\n",
       "> 3. The processor executes the instructions.\n",
       "> 4. The results of the instructions are stored in memory or sent to an output device.\n",
       "> \n",
       "> This process is repeated over and over again, until you stop using the computer or turn it off.\n",
       "> \n",
       "> **Additional details:**\n",
       "> \n",
       "> * The **processor** is the brain of the computer. It is responsible for executing instructions and managing the flow of data.\n",
       "> * **Memory** is used to store instructions and data while the computer is running.\n",
       "> * **Storage** is used to store data permanently, even when the computer is turned off.\n",
       "> * **Input devices** allow you to communicate with the computer.\n",
       "> * **Output devices** allow the computer to communicate with you.\n",
       "> \n",
       "> Computers are used in a wide variety of applications, including:\n",
       "> \n",
       "> * **Business:** Word processing, spreadsheets, presentations, accounting, customer relationship management (CRM), etc.\n",
       "> * **Education:** Research, writing papers, creating presentations, learning new skills, etc.\n",
       "> * **Entertainment:** Gaming, watching movies and TV shows, listening to music, etc.\n",
       "> * **Communication:** Email, social media, video conferencing, etc.\n",
       "> * **Science and engineering:** Simulations, data analysis, modeling, etc.\n",
       "> \n",
       "> Computers have become an essential part of our lives. They help us to be more productive, creative, and informed."
      ],
      "text/plain": [
       "<IPython.core.display.Markdown object>"
      ]
     },
     "execution_count": 27,
     "metadata": {},
     "output_type": "execute_result"
    }
   ],
   "source": [
    "messages.append({'role':'model',\n",
    "                'parts':[response.text]})\n",
    "\n",
    "messages.append({'role':'user',\n",
    "                'parts':[\"Okey, how about a more detailed explanation to a high school student?\"]})\n",
    "\n",
    "response = model.generate_content(messages)\n",
    "\n",
    "to_markdown(response.text)"
   ]
  },
  {
   "cell_type": "code",
   "execution_count": 28,
   "id": "46f3b883-429a-4b31-9316-6939fdf5543b",
   "metadata": {},
   "outputs": [],
   "source": [
    "model = genai.GenerativeModel('gemini-pro')\n",
    "response = model.generate_content(\n",
    "        'Tell me a story about a magic backpack.',\n",
    "        generation_config = genai.types.GenerationConfig(\n",
    "            # Only one candidate for now.\n",
    "            candidate_count = 1,\n",
    "            stop_sequences = ['x'],\n",
    "            max_output_tokens = 20,\n",
    "            temperature = 1.0)\n",
    "        )"
   ]
  },
  {
   "cell_type": "code",
   "execution_count": 29,
   "id": "637e63a4-b2cc-466c-83c0-1e7dc4ca519c",
   "metadata": {},
   "outputs": [
    {
     "ename": "ValueError",
     "evalue": "The `response.text` quick accessor only works when the response contains a valid `Part`, but none was returned. Check the `candidate.safety_ratings` to see if the response was blocked.",
     "output_type": "error",
     "traceback": [
      "\u001b[0;31m---------------------------------------------------------------------------\u001b[0m",
      "\u001b[0;31mValueError\u001b[0m                                Traceback (most recent call last)",
      "Cell \u001b[0;32mIn[29], line 1\u001b[0m\n\u001b[0;32m----> 1\u001b[0m text \u001b[38;5;241m=\u001b[39m \u001b[43mresponse\u001b[49m\u001b[38;5;241;43m.\u001b[39;49m\u001b[43mtext\u001b[49m\n\u001b[1;32m      3\u001b[0m \u001b[38;5;28;01mif\u001b[39;00m response\u001b[38;5;241m.\u001b[39mcandidates[\u001b[38;5;241m0\u001b[39m]\u001b[38;5;241m.\u001b[39mfinish_reason\u001b[38;5;241m.\u001b[39mname \u001b[38;5;241m==\u001b[39m \u001b[38;5;124m\"\u001b[39m\u001b[38;5;124mMAX_TOKENS\u001b[39m\u001b[38;5;124m\"\u001b[39m:\n\u001b[1;32m      4\u001b[0m     text \u001b[38;5;241m+\u001b[39m\u001b[38;5;241m=\u001b[39m \u001b[38;5;124m'\u001b[39m\u001b[38;5;124m...\u001b[39m\u001b[38;5;124m'\u001b[39m\n",
      "File \u001b[0;32m~/study/gemini-api-docs/.venv/lib/python3.12/site-packages/google/generativeai/types/generation_types.py:401\u001b[0m, in \u001b[0;36mBaseGenerateContentResponse.text\u001b[0;34m(self)\u001b[0m\n\u001b[1;32m    399\u001b[0m parts \u001b[38;5;241m=\u001b[39m \u001b[38;5;28mself\u001b[39m\u001b[38;5;241m.\u001b[39mparts\n\u001b[1;32m    400\u001b[0m \u001b[38;5;28;01mif\u001b[39;00m \u001b[38;5;129;01mnot\u001b[39;00m parts:\n\u001b[0;32m--> 401\u001b[0m     \u001b[38;5;28;01mraise\u001b[39;00m \u001b[38;5;167;01mValueError\u001b[39;00m(\n\u001b[1;32m    402\u001b[0m         \u001b[38;5;124m\"\u001b[39m\u001b[38;5;124mThe `response.text` quick accessor only works when the response contains a valid \u001b[39m\u001b[38;5;124m\"\u001b[39m\n\u001b[1;32m    403\u001b[0m         \u001b[38;5;124m\"\u001b[39m\u001b[38;5;124m`Part`, but none was returned. Check the `candidate.safety_ratings` to see if the \u001b[39m\u001b[38;5;124m\"\u001b[39m\n\u001b[1;32m    404\u001b[0m         \u001b[38;5;124m\"\u001b[39m\u001b[38;5;124mresponse was blocked.\u001b[39m\u001b[38;5;124m\"\u001b[39m\n\u001b[1;32m    405\u001b[0m     )\n\u001b[1;32m    407\u001b[0m \u001b[38;5;28;01mif\u001b[39;00m \u001b[38;5;28mlen\u001b[39m(parts) \u001b[38;5;241m!=\u001b[39m \u001b[38;5;241m1\u001b[39m \u001b[38;5;129;01mor\u001b[39;00m \u001b[38;5;124m\"\u001b[39m\u001b[38;5;124mtext\u001b[39m\u001b[38;5;124m\"\u001b[39m \u001b[38;5;129;01mnot\u001b[39;00m \u001b[38;5;129;01min\u001b[39;00m parts[\u001b[38;5;241m0\u001b[39m]:\n\u001b[1;32m    408\u001b[0m     \u001b[38;5;28;01mraise\u001b[39;00m \u001b[38;5;167;01mValueError\u001b[39;00m(\n\u001b[1;32m    409\u001b[0m         \u001b[38;5;124m\"\u001b[39m\u001b[38;5;124mThe `response.text` quick accessor only works for \u001b[39m\u001b[38;5;124m\"\u001b[39m\n\u001b[1;32m    410\u001b[0m         \u001b[38;5;124m\"\u001b[39m\u001b[38;5;124msimple (single-`Part`) text responses. This response is not simple text. \u001b[39m\u001b[38;5;124m\"\u001b[39m\n\u001b[0;32m   (...)\u001b[0m\n\u001b[1;32m    413\u001b[0m         \u001b[38;5;124m\"\u001b[39m\u001b[38;5;124minstead.\u001b[39m\u001b[38;5;124m\"\u001b[39m\n\u001b[1;32m    414\u001b[0m     )\n",
      "\u001b[0;31mValueError\u001b[0m: The `response.text` quick accessor only works when the response contains a valid `Part`, but none was returned. Check the `candidate.safety_ratings` to see if the response was blocked."
     ]
    }
   ],
   "source": [
    "text = response.text\n",
    "\n",
    "if response.candidates[0].finish_reason.name == \"MAX_TOKENS\":\n",
    "    text += '...'\n",
    "\n",
    "to_markdown(text)"
   ]
  }
 ],
 "metadata": {
  "kernelspec": {
   "display_name": "Python 3 (ipykernel)",
   "language": "python",
   "name": "python3"
  },
  "language_info": {
   "codemirror_mode": {
    "name": "ipython",
    "version": 3
   },
   "file_extension": ".py",
   "mimetype": "text/x-python",
   "name": "python",
   "nbconvert_exporter": "python",
   "pygments_lexer": "ipython3",
   "version": "3.12.3"
  }
 },
 "nbformat": 4,
 "nbformat_minor": 5
}
