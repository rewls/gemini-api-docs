{
 "cells": [
  {
   "cell_type": "code",
   "execution_count": 1,
   "id": "01bfc069-bc26-4b63-a7f5-a3e869b978d2",
   "metadata": {},
   "outputs": [],
   "source": [
    "import textwrap\n",
    "import numpy as np\n",
    "import pandas as pd\n",
    "\n",
    "import google.generativeai as genai\n",
    "\n",
    "from IPython.display import Markdown"
   ]
  },
  {
   "cell_type": "code",
   "execution_count": 2,
   "id": "147bed14-ebe8-4538-b35f-682edc574e87",
   "metadata": {},
   "outputs": [
    {
     "name": "stdout",
     "output_type": "stream",
     "text": [
      "models/embedding-001\n",
      "models/text-embedding-004\n"
     ]
    }
   ],
   "source": [
    "for m in genai.list_models():\n",
    "    if 'embedContent' in m.supported_generation_methods:\n",
    "        print(m.name)"
   ]
  },
  {
   "cell_type": "code",
   "execution_count": 3,
   "id": "de71e774-51a8-4a7c-b147-9eea6367c289",
   "metadata": {},
   "outputs": [
    {
     "name": "stdout",
     "output_type": "stream",
     "text": [
      "{'embedding': [0.036087662, -0.056891054, -0.020349132, -0.00406989, 0.05800266, 0.0133322785, 0.008142927, 0.0033249236, 0.059509765, 0.08387112, 0.0084910095, 0.0057724635, -0.055272244, -0.01239502, 0.029243464, -0.035576023, 0.047579058, 0.021387443, -0.040000785, 0.024934059, 0.029113755, -0.011908686, -0.025036985, -0.055556506, -0.023254625, -0.008985951, 0.0065487465, -0.014769113, -0.02166103, 0.017952282, -0.062360194, 0.015213585, -0.051781762, 0.014697632, 0.003129189, -0.055033073, -0.0031100195, -0.04779091, 0.008237217, -0.0075895805, -0.0049020993, -0.10733809, -0.016503623, 0.01704413, 0.005614664, -0.028475989, 0.034937795, 0.040291876, 0.017108187, -0.06503234, 0.04157562, 0.053048454, 0.059426222, -0.029946702, -0.009923458, -0.008181766, 0.022398895, -0.023420615, 0.015429097, 0.014369452, -0.0057441224, 0.04352814, -0.024542717, 0.029368106, 0.013361729, -0.06224394, -0.045536913, 0.007316218, 0.0354322, 0.033386122, 0.024685508, 0.026872532, 0.05800061, -0.050053753, -0.029600784, -0.1550612, -0.02963504, 0.04407657, 0.007034999, 0.022521064, 0.000928077, -0.07160321, -0.05038142, -0.03379437, -0.0321004, 0.018284628, -0.052266173, -0.024650736, 0.0085085, 0.035783414, -0.01884312, -0.0542475, 0.07582373, -0.030290881, -0.011815391, 0.10264627, -0.05717513, -0.017501775, -0.009533662, -0.05350067, -0.025527285, 0.0074170483, -0.044829074, 0.011152842, 0.038494434, 0.019618994, -0.021434572, 0.0013448803, -0.063347764, 0.06626608, -0.06254026, -0.01748393, 9.779944e-05, -0.055481676, 0.040913306, -0.032675173, 0.018468523, 0.042467933, 0.008322814, 0.029048434, 0.022751492, 0.02608972, 0.018525735, 0.0062888553, -0.06267939, 0.024990905, -0.035866458, 0.021020005, 0.032923363, 0.0316342, 0.0025582486, -0.049855217, -0.027352607, 0.059775006, 0.03012567, 0.028710153, 0.013108389, -0.02546056, 0.02934498, 0.048940636, -0.010233482, 0.037208445, 0.003645694, -0.028858908, -0.0067204363, 0.0686425, -0.09311525, 0.0136929825, 0.008540864, -0.005628044, -0.034198534, 0.033582117, -0.0775515, 0.03755938, 0.033292055, 0.03550678, -0.051000908, 0.06372977, 0.0015259222, 0.0036817056, 0.02861663, -0.01746913, 0.04835141, 0.00953362, -0.022796053, -0.04262168, -0.016914535, 0.007604256, 0.0141915325, 0.035473417, 0.011571464, 0.0326065, -0.016973332, -0.048463877, -0.00010530337, -0.062145587, -0.0016481495, -0.011246613, -0.0045895316, -0.02019193, -0.023909517, -0.04168819, 0.05211638, 0.048660044, 0.0054793623, -0.020213233, 0.10628515, -0.024570143, -0.069176964, 0.045103453, -0.037650246, -0.019505385, -0.0020660742, -0.019342147, -0.0007147625, 0.05178561, 0.022390164, 0.027601246, 0.036366224, -0.010352271, 0.016308296, 0.07406423, 0.03632241, 0.004667445, 0.010632453, 0.03854077, 0.10336574, 0.0066914344, -0.04258295, 0.0013611455, -0.04484248, -0.01261322, 0.032669313, 0.020922303, 0.035233125, -0.03638606, -0.0018551255, -0.0033861082, -0.012968714, -0.028608961, -0.022708053, 0.005802991, -0.026303845, -0.016315963, -0.025796544, 0.09904965, -0.047007427, 0.02842257, 0.033570457, -0.04141599, 0.002014882, 0.057314277, 0.046803147, 0.010070557, 0.044857588, 0.013198372, 0.0012858533, -0.00022454029, 0.072011024, 0.027470341, -0.050234713, 0.051129602, 0.04053357, 0.037934124, -0.054775394, -0.0056987754, -0.016009098, 0.05284458, 0.022678012, 0.051960643, -0.03134304, -0.033371408, -0.0050260834, 0.039689057, -0.043900684, 0.009289278, -0.08418435, -0.04801347, -0.00594477, 0.0031319195, 0.06321648, -0.06350751, 0.006590023, -0.015842656, 0.001929401, -0.040950105, 0.041522156, 0.030809226, -0.033772737, 0.033480976, -0.037187677, -0.05108376, 0.029584209, 0.03330778, -0.0073164497, 0.03212481, -0.010342412, 0.016477004, 0.059062697, -0.061892416, 0.002144845, 0.0036703255, 0.029052244, -0.06962497, -0.055354808, 0.02848505, -0.0146997245, -0.03643763, -0.034032483, -0.06698064, -0.051683553, 0.0103216, -0.0029416229, -0.005831062, -0.044980906, -0.0075253323, -0.023814173, 0.07372016, 0.03550126, -0.036839094, -0.0070048664, -0.07794841, -0.04297963, -0.07691626, 0.018580206, -0.030516097, -0.030738322, -0.045780413, 0.047454935, 0.04049294, -0.0019580054, -0.029038742, -0.003042676, 0.0066028778, 0.08900101, 0.049467716, -0.032680113, 0.019452102, 0.007213268, 0.065519616, 0.0050925505, 0.0117148105, -0.01613258, -0.0061792242, -0.041831244, 0.043375514, -0.055166807, -0.013579291, -0.013550178, 0.02243423, -0.003983905, 0.017702805, -0.011806481, 0.04737309, 0.02661308, 0.024354046, -0.049519453, 0.012779151, 0.00031288448, -0.046992835, -0.0023597446, -0.007754722, 0.008554532, -0.049652327, 0.028209016, -0.018433008, -0.07637058, -0.012579638, 0.07527968, 0.008904535, 0.023167059, 0.04507159, -0.032049496, -0.012248725, -0.018439874, -0.033611003, 0.049474202, 0.00024665755, 0.089138284, -0.03501363, 0.038758807, 0.036202766, 0.008260717, 0.0027718577, 0.040120926, 0.041103378, 0.0050109634, 0.021116361, 0.005905415, 0.0050471365, -0.0081450455, -0.03264723, 0.013854415, -0.026500685, 0.009675556, 0.01648913, -0.060563706, -0.03768355, -0.02201922, 0.00019822868, 0.0036759432, -0.04188752, 0.025795499, 0.03537059, 0.00060152926, 0.013795564, 0.00089364505, 0.041277632, -0.0059116147, 0.042057887, 0.01978013, 0.03016388, 0.09395326, 0.041984167, 0.0067683393, 0.010453434, 0.00469119, -0.046793222, -0.0055949055, -0.031414464, -0.015262298, -0.049218386, -0.013528873, 0.00031705166, 0.01075737, 0.00254745, 0.0015354091, -0.0068786643, -0.057711538, -0.027416948, 0.022425832, -0.037709367, 0.050836988, -0.05323842, -0.060695168, 0.007242708, 0.009218161, -0.006027608, -0.0176957, -0.014301996, 0.0025101982, 0.004227696, 0.04817971, -0.03302854, -0.076803274, 0.024416354, -0.011205137, -0.009582253, 0.006349137, 0.015011637, 0.01837077, 0.03253563, -0.00034728213, 0.020000232, -0.005934941, -0.037092626, 0.0062973495, 0.018644264, -0.010602998, 0.02475192, 0.029477185, -0.0036221035, -0.012019285, -0.030856991, -0.048297808, -0.075837545, -0.023100527, -0.0061150836, 0.03855073, -0.067632675, 0.016986508, -0.04868766, -0.0317445, -0.050529964, -0.011627989, -0.014023112, 0.003885395, 0.028876383, -0.0051990286, -0.003893946, 0.02266913, -0.028707463, -0.008646266, -0.027338512, 0.07196852, -0.016296793, -0.027925575, -0.024038004, -4.9055998e-05, 0.008584124, -0.0115239145, -0.07287739, -0.004497317, -0.035109013, 0.012910382, -0.0014886322, -0.08093595, 0.0071786838, -0.041567523, 0.006623246, -0.023294866, 0.052169252, 0.021387685, -0.0065204278, -0.019003963, -0.06099358, 0.034390975, 0.02201165, -0.023176504, 0.022476912, 0.035789832, 0.044624694, -0.029062431, -0.042757194, -0.028800149, 0.006462915, -0.01798701, 0.031623732, 0.069567725, 0.036883984, -0.037800185, -0.027894037, -0.011985262, 0.03898309, 0.058321275, -0.05418005, 0.021381026, -0.034316625, 0.0089056175, -0.030015027, -0.013059061, 0.007159086, 0.00056484365, -0.027729895, 0.05430751, -0.052247938, -0.014180263, 0.034927048, 0.044825807, 0.016880691, 0.06533506, 0.022423426, -0.08950587, 0.0061359713, -0.007774717, -0.037214793, 0.01214769, -0.035508323, 0.035075616, -0.0071644224, -0.026442075, 0.055252787, -0.027476992, -0.034328602, -0.0017035387, -0.001307351, 0.051895455, -0.032294374, -0.021786563, 0.037410468, -0.017120624, -0.045805916, 0.031953428, 0.030783718, -0.032161687, 0.0052959304, -0.0030874547, -0.053814624, 0.02069325, -0.029120196, -0.00076044124, 0.023010518, -0.015883617, 0.0078604305, 0.020797944, -0.031788185, -0.019909516, -0.025519656, 0.013402402, 0.018270995, -0.0033355332, 0.008034764, -0.0048974664, -0.0031745054, 0.059376094, -0.0049135974, -0.014567572, 0.004036619, 0.05036754, -0.002467984, -0.020649208, -0.006473107, 0.040363222, 0.008348147, 0.066727184, -0.024721107, -0.033088338, -0.00025463555, -0.05197102, 0.046900593, 0.058664784, -0.00646849, -0.013234277, 0.05032865, -0.037074838, -0.0019770123, 0.016141392, 0.01273421, 0.01826024, 0.015768278, -0.080614924, 0.044245627, -0.010106462, 0.025331965, -0.006993963, -0.01781187, 0.022190271, -0.021083428, 0.03129804, 0.061230727, -0.014063204, -0.05015521, 0.04919216, -0.026938396, -0.01916295, 0.05141646, 0.008163567, -0.008944009, 0.014287684, 0.010924976, 0.012245072, -0.09675401, 0.0037916056, -0.027387697, -0.050851498, -0.023690319, 0.01827563, 0.05188311, -0.022019107, -0.009000862, 0.022641854, 0.041880894, 0.04499958, 0.04594127, 0.038462486, 0.026637744, -0.057418704, -0.0009963785, 0.0608905, 0.05454196, 0.03346552, 0.07342394, 0.0008893831, -0.018452654, -0.051676247, 0.010086447, 0.039158482, 0.043890573, -0.025011577, -0.059796613, -0.040122934, -0.015543996, -0.0140088275, -0.015897108, -0.009404551, 0.015485333, -0.010253412, -0.10071777, -0.043278348, 0.028163632, 0.0019771385, 0.017914787, 0.02607013, 0.0052384404, 0.007500938, 0.00053867756, -0.06536034, -0.022850597, 0.034775004, -0.02256741, -0.029888907, 0.023504555, -0.015302725, -0.004201083, -0.03825537, -0.029148491, -0.0464843, -0.0889005, -0.04887138, 0.01603424, -0.060026526, 0.06821315, 0.015153465, 0.0029798679, 0.021063123, 0.049544267, 0.014567154, 0.009027591, 0.02257438, 0.01231038, 0.03831294, -0.03069138, -0.017604649, 0.012208104, -0.009956162, 0.019859055, 0.029266702, 0.0034404895, -0.01221791, -0.007827784, -0.003188394, -0.043130178, 0.010792202, -0.00675964, 0.0012178109, -0.019699207, -0.039626908, -0.02929123, 0.06637398, 0.033691734, -0.017966298, -0.016065875, -0.0052271266, -0.017026508, 0.016631296, 0.011160932, -0.04590992, 0.020918638, -0.029815372, 0.035873964, 0.050274227, -0.047975026, -0.08598111, -0.0032480448, -0.03610926, -0.0036786424, -0.037128985, 0.0155907115, -0.013731643, 0.05896451, 0.010325912, 0.016775444, 0.026849542, -0.008765279, -0.051053833, 0.023917185, -0.021513782, -0.0044192118, -0.02454623, 0.029512541, 0.04119394, -0.029260602, -0.030133612, -0.0079947375, 0.002909954, 0.03184853, -0.023703655, 0.051235683, -0.043828, -0.065296315, -0.012413434, -0.02330034, 0.027339986, 0.0392036, 0.022603774, -0.051547036, -0.0135701345, -0.022708533, 0.00015128935, -0.06652733, -0.029668344, -0.017372655, -0.013355319, 0.051022325, 0.027474131, -0.019517252, 0.022527775, -0.033289686, -0.003111048, -0.0046215695, -0.02862247, -0.005294977, -0.0076565947, -0.041357577, 0.011005424, 0.072461106, -0.04500951, 0.033194583]}\n"
     ]
    }
   ],
   "source": [
    "title = \"The next generation of AI for developers and Google Workspace\"\n",
    "sample_text = (\"Title: The next generation of AI for developers and Google Worspace\"\n",
    "               \"\\n\"\n",
    "               \"Full article:\\n\"\n",
    "               \"\\n\"\n",
    "               \"Gemini API & Google AI Studio: An approachable way to explore and prototype with generative AI applications\")\n",
    "\n",
    "model = 'models/embedding-001'\n",
    "embedding = genai.embed_content(model=model,\n",
    "                                content=sample_text,\n",
    "                                task_type=\"retrieval_document\",\n",
    "                                title=title)\n",
    "\n",
    "print(embedding)"
   ]
  },
  {
   "cell_type": "code",
   "execution_count": 4,
   "id": "32be9588-6610-462f-9f24-2756372ed7bb",
   "metadata": {},
   "outputs": [],
   "source": [
    "DOCUMENT1 = {\n",
    "        \"title\": \"Operating the Climate Control System\",\n",
    "        \"content\": \"Your Googlecar has a climate control system that allows you to adjust the temperature and airflow in the car. To operate the climate control system, use the buttons and knobs located on the center console.  Temperature: The temperature knob controls the temperature inside the car. Turn the knob clockwise to increase the temperature or counterclockwise to decrease the temperature. Airflow: The airflow knob controls the amount of airflow inside the car. Turn the knob clockwise to increase the airflow or counterclockwise to decrease the airflow. Fan speed: The fan speed knob controls the speed of the fan. Turn the knob clockwise to increase the fan speed or counterclockwise to decrease the fan speed. Mode: The mode button allows you to select the desired mode. The available modes are: Auto: The car will automatically adjust the temperature and airflow to maintain a comfortable level. Cool: The car will blow cool air into the car. Heat: The car will blow warm air into the car. Defrost: The car will blow warm air onto the windshield to defrost it.\"}\n",
    "DOCUMENT2 = {\n",
    "        \"title\": \"Touchscreen\",\n",
    "        \"content\": \"Your Googlecar has a large touchscreen display that provides access to a variety of features, including navigation, entertainment, and climate control. To use the touchscreen display, simply touch the desired icon.  For example, you can touch the \\\"Navigation\\\" icon to get directions to your destination or touch the \\\"Music\\\" icon to play your favorite songs.\"}\n",
    "DOCUMENT3 = {\n",
    "        \"title\": \"Shifting Gears\",\n",
    "        \"content\": \"Your Googlecar has an automatic transmission. To shift gears, simply move the shift lever to the desired position.  Park: This position is used when you are parked. The wheels are locked and the car cannot move. Reverse: This position is used to back up. Neutral: This position is used when you are stopped at a light or in traffic. The car is not in gear and will not move unless you press the gas pedal. Drive: This position is used to drive forward. Low: This position is used for driving in snow or other slippery conditions.\"}\n",
    "\n",
    "documents = [DOCUMENT1, DOCUMENT2, DOCUMENT3]"
   ]
  },
  {
   "cell_type": "code",
   "execution_count": 10,
   "id": "95b955b0-1192-4f1c-bbef-d3a98d8beca1",
   "metadata": {},
   "outputs": [
    {
     "data": {
      "text/html": [
       "<div>\n",
       "<style scoped>\n",
       "    .dataframe tbody tr th:only-of-type {\n",
       "        vertical-align: middle;\n",
       "    }\n",
       "\n",
       "    .dataframe tbody tr th {\n",
       "        vertical-align: top;\n",
       "    }\n",
       "\n",
       "    .dataframe thead th {\n",
       "        text-align: right;\n",
       "    }\n",
       "</style>\n",
       "<table border=\"1\" class=\"dataframe\">\n",
       "  <thead>\n",
       "    <tr style=\"text-align: right;\">\n",
       "      <th></th>\n",
       "      <th>Title</th>\n",
       "      <th>Text</th>\n",
       "    </tr>\n",
       "  </thead>\n",
       "  <tbody>\n",
       "    <tr>\n",
       "      <th>0</th>\n",
       "      <td>Operating the Climate Control System</td>\n",
       "      <td>Your Googlecar has a climate control system th...</td>\n",
       "    </tr>\n",
       "    <tr>\n",
       "      <th>1</th>\n",
       "      <td>Touchscreen</td>\n",
       "      <td>Your Googlecar has a large touchscreen display...</td>\n",
       "    </tr>\n",
       "    <tr>\n",
       "      <th>2</th>\n",
       "      <td>Shifting Gears</td>\n",
       "      <td>Your Googlecar has an automatic transmission. ...</td>\n",
       "    </tr>\n",
       "  </tbody>\n",
       "</table>\n",
       "</div>"
      ],
      "text/plain": [
       "                                  Title  \\\n",
       "0  Operating the Climate Control System   \n",
       "1                           Touchscreen   \n",
       "2                        Shifting Gears   \n",
       "\n",
       "                                                Text  \n",
       "0  Your Googlecar has a climate control system th...  \n",
       "1  Your Googlecar has a large touchscreen display...  \n",
       "2  Your Googlecar has an automatic transmission. ...  "
      ]
     },
     "execution_count": 10,
     "metadata": {},
     "output_type": "execute_result"
    }
   ],
   "source": [
    "df = pd.DataFrame(documents)\n",
    "df.columns = ['Title', 'Text']\n",
    "df"
   ]
  },
  {
   "cell_type": "code",
   "execution_count": 11,
   "id": "630ba047-7857-4866-8cf9-ff8d8c8493a1",
   "metadata": {},
   "outputs": [
    {
     "data": {
      "text/html": [
       "<div>\n",
       "<style scoped>\n",
       "    .dataframe tbody tr th:only-of-type {\n",
       "        vertical-align: middle;\n",
       "    }\n",
       "\n",
       "    .dataframe tbody tr th {\n",
       "        vertical-align: top;\n",
       "    }\n",
       "\n",
       "    .dataframe thead th {\n",
       "        text-align: right;\n",
       "    }\n",
       "</style>\n",
       "<table border=\"1\" class=\"dataframe\">\n",
       "  <thead>\n",
       "    <tr style=\"text-align: right;\">\n",
       "      <th></th>\n",
       "      <th>Title</th>\n",
       "      <th>Text</th>\n",
       "      <th>Embeddings</th>\n",
       "    </tr>\n",
       "  </thead>\n",
       "  <tbody>\n",
       "    <tr>\n",
       "      <th>0</th>\n",
       "      <td>Operating the Climate Control System</td>\n",
       "      <td>Your Googlecar has a climate control system th...</td>\n",
       "      <td>[-0.033361107, -0.021217084, -0.049581926, -0....</td>\n",
       "    </tr>\n",
       "    <tr>\n",
       "      <th>1</th>\n",
       "      <td>Touchscreen</td>\n",
       "      <td>Your Googlecar has a large touchscreen display...</td>\n",
       "      <td>[0.009660736, -0.030662702, -0.017281422, -0.0...</td>\n",
       "    </tr>\n",
       "    <tr>\n",
       "      <th>2</th>\n",
       "      <td>Shifting Gears</td>\n",
       "      <td>Your Googlecar has an automatic transmission. ...</td>\n",
       "      <td>[-0.04270796, -0.007160868, -0.03242516, -0.02...</td>\n",
       "    </tr>\n",
       "  </tbody>\n",
       "</table>\n",
       "</div>"
      ],
      "text/plain": [
       "                                  Title  \\\n",
       "0  Operating the Climate Control System   \n",
       "1                           Touchscreen   \n",
       "2                        Shifting Gears   \n",
       "\n",
       "                                                Text  \\\n",
       "0  Your Googlecar has a climate control system th...   \n",
       "1  Your Googlecar has a large touchscreen display...   \n",
       "2  Your Googlecar has an automatic transmission. ...   \n",
       "\n",
       "                                          Embeddings  \n",
       "0  [-0.033361107, -0.021217084, -0.049581926, -0....  \n",
       "1  [0.009660736, -0.030662702, -0.017281422, -0.0...  \n",
       "2  [-0.04270796, -0.007160868, -0.03242516, -0.02...  "
      ]
     },
     "execution_count": 11,
     "metadata": {},
     "output_type": "execute_result"
    }
   ],
   "source": [
    "# Get the embeddings of each text and add to an embeddings column in the dataframe\n",
    "def embed_fn(title, text):\n",
    "    return genai.embed_content(model=model,\n",
    "                               content=text,\n",
    "                               task_type=\"retrieval_document\",\n",
    "                               title=title)[\"embedding\"]\n",
    "\n",
    "df['Embeddings'] = df.apply(lambda row: embed_fn(row['Title'], row['Text']), axis=1)\n",
    "df"
   ]
  },
  {
   "cell_type": "code",
   "execution_count": 12,
   "id": "43e18b47-5101-455f-a162-bd83c0833933",
   "metadata": {},
   "outputs": [],
   "source": [
    "query = \"How do you shift gears in the Google car?\"\n",
    "model = 'models/embedding-001'\n",
    "\n",
    "request = genai.embed_content(model=model,\n",
    "                              content=query,\n",
    "                              task_type=\"retrieval_query\")"
   ]
  },
  {
   "cell_type": "code",
   "execution_count": 13,
   "id": "eaca3cd9-85bc-4acf-bd60-7717097fed6b",
   "metadata": {},
   "outputs": [],
   "source": [
    "def find_best_passage(query, dataframe):\n",
    "    \"\"\"\n",
    "    Compute the distances between the query and each document in the dataframe\n",
    "    using the dot product.\n",
    "    \"\"\"\n",
    "    query_embedding = genai.embed_content(model=model,\n",
    "                                          content=query,\n",
    "                                          task_type=\"retrieval_query\")\n",
    "    dot_products = np.dot(np.stack(dataframe['Embeddings']),\n",
    "                          query_embedding[\"embedding\"])\n",
    "    idx = np.argmax(dot_products)\n",
    "    return dataframe.iloc[idx]['Text'] # Return text from index with max value"
   ]
  },
  {
   "cell_type": "code",
   "execution_count": 14,
   "id": "36dc1ed1-4762-4ca9-9740-1773e606dcd2",
   "metadata": {},
   "outputs": [
    {
     "data": {
      "text/plain": [
       "'Your Googlecar has an automatic transmission. To shift gears, simply move the shift lever to the desired position.  Park: This position is used when you are parked. The wheels are locked and the car cannot move. Reverse: This position is used to back up. Neutral: This position is used when you are stopped at a light or in traffic. The car is not in gear and will not move unless you press the gas pedal. Drive: This position is used to drive forward. Low: This position is used for driving in snow or other slippery conditions.'"
      ]
     },
     "execution_count": 14,
     "metadata": {},
     "output_type": "execute_result"
    }
   ],
   "source": [
    "passage = find_best_passage(query, df)\n",
    "passage"
   ]
  },
  {
   "cell_type": "code",
   "execution_count": 17,
   "id": "b96abe3c-f043-43f4-85e9-df4266a382cc",
   "metadata": {},
   "outputs": [],
   "source": [
    "def make_prompt(query, relevant_passage):\n",
    "    escaped = relevant_passage.replace(\"'\", \"\").replace('\"', \"\").replace(\"\\n\", \" \")\n",
    "    prompt = textwrap.dedent(\"\"\"You are a helpful and informative bot that answers questions using text from the reference passage included below. \\\n",
    "    Be sure to respond in a complete sentence, being comprehensive, including all relevant background information. \\\n",
    "    However, you are talking to a non-technical audience, so be sure to break down complicated concepts and \\\n",
    "    strike a friendly and converstional tone. \\\n",
    "    If the passage is irrelevant to the answer, you may ignore it.\n",
    "    QUESTION: '{query}'\n",
    "    PASSAGE: '{relevant_passage}'\n",
    "      ANSWER:\n",
    "    \"\"\").format(query=query, relevant_passage=escaped)\n",
    "\n",
    "    return prompt"
   ]
  },
  {
   "cell_type": "code",
   "execution_count": 18,
   "id": "dbab5f16-681b-4058-b27b-2d994e278cad",
   "metadata": {},
   "outputs": [
    {
     "name": "stdout",
     "output_type": "stream",
     "text": [
      "You are a helpful and informative bot that answers questions using text from the reference passage included below.     Be sure to respond in a complete sentence, being comprehensive, including all relevant background information.     However, you are talking to a non-technical audience, so be sure to break down complicated concepts and     strike a friendly and converstional tone.     If the passage is irrelevant to the answer, you may ignore it.\n",
      "    QUESTION: 'How do you shift gears in the Google car?'\n",
      "    PASSAGE: 'Your Googlecar has an automatic transmission. To shift gears, simply move the shift lever to the desired position.  Park: This position is used when you are parked. The wheels are locked and the car cannot move. Reverse: This position is used to back up. Neutral: This position is used when you are stopped at a light or in traffic. The car is not in gear and will not move unless you press the gas pedal. Drive: This position is used to drive forward. Low: This position is used for driving in snow or other slippery conditions.'\n",
      "      ANSWER:\n",
      "\n"
     ]
    }
   ],
   "source": [
    "prompt = make_prompt(query, passage)\n",
    "print(prompt)"
   ]
  },
  {
   "cell_type": "code",
   "execution_count": 19,
   "id": "5b7e1792-9638-4aa5-847e-d496b214bd37",
   "metadata": {},
   "outputs": [],
   "source": [
    "model = genai.GenerativeModel('gemini-1.5-pro-latest')\n",
    "answer = model.generate_content(prompt)"
   ]
  },
  {
   "cell_type": "code",
   "execution_count": 20,
   "id": "ce1bc7de-7e39-4d7c-9e60-896893bdc07f",
   "metadata": {},
   "outputs": [
    {
     "data": {
      "text/markdown": [
       "The Google car is automatic, so there's no need to worry about manually shifting gears! You can simply move the shift lever to \"Drive\" to go forward. 😊 \n"
      ],
      "text/plain": [
       "<IPython.core.display.Markdown object>"
      ]
     },
     "execution_count": 20,
     "metadata": {},
     "output_type": "execute_result"
    }
   ],
   "source": [
    "Markdown(answer.text)"
   ]
  }
 ],
 "metadata": {
  "kernelspec": {
   "display_name": "Python 3 (ipykernel)",
   "language": "python",
   "name": "python3"
  },
  "language_info": {
   "codemirror_mode": {
    "name": "ipython",
    "version": 3
   },
   "file_extension": ".py",
   "mimetype": "text/x-python",
   "name": "python",
   "nbconvert_exporter": "python",
   "pygments_lexer": "ipython3",
   "version": "3.12.3"
  }
 },
 "nbformat": 4,
 "nbformat_minor": 5
}
